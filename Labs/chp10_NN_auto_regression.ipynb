{
 "cells": [
  {
   "cell_type": "code",
   "execution_count": 2,
   "metadata": {},
   "outputs": [
    {
     "name": "stdout",
     "output_type": "stream",
     "text": [
      "2.19.0\n"
     ]
    }
   ],
   "source": [
    "import matplotlib.pyplot as plt\n",
    "import numpy as np\n",
    "import pandas as pd\n",
    "import seaborn as sns\n",
    "import tensorflow as tf\n",
    "\n",
    "from tensorflow import keras\n",
    "from tensorflow.keras import layers\n",
    "\n",
    "print(tf.__version__)\n",
    "# Make NumPy printouts easier to read.\n",
    "np.set_printoptions(precision=3, suppress=True)"
   ]
  },
  {
   "cell_type": "code",
   "execution_count": 3,
   "metadata": {},
   "outputs": [],
   "source": [
    "df = pd.read_csv('../data/Auto.csv')\n",
    "df.dropna()\n",
    "#drop name column\n",
    "df = df.drop(columns=['name'])"
   ]
  },
  {
   "cell_type": "code",
   "execution_count": 4,
   "metadata": {},
   "outputs": [
    {
     "data": {
      "text/plain": [
       "(314, 7)"
      ]
     },
     "execution_count": 4,
     "metadata": {},
     "output_type": "execute_result"
    }
   ],
   "source": [
    "# split into X and y where mpg is the y\n",
    "X = df.drop(columns=['mpg'])\n",
    "y = df['mpg']\n",
    "\n",
    "# split into train and test\n",
    "X_train = X.sample(frac=0.8, random_state=0)\n",
    "X_test = X.drop(X_train.index)\n",
    "y_train = y[X_train.index]\n",
    "y_test = y[X_test.index]\n",
    "\n",
    "X_train.shape"
   ]
  },
  {
   "cell_type": "code",
   "execution_count": 5,
   "metadata": {},
   "outputs": [],
   "source": [
    "# its often recommended that you normalize the input data\n",
    "# this is because the weights of the network are initialized randomly\n",
    "# and if the input data is not normalized the weights will be very different\n",
    "# and the network will take longer to train\n",
    "\n",
    "X_norm = tf.keras.layers.Normalization(axis=-1)\n",
    "X_norm.adapt(np.array(X_train))\n",
    "\n",
    "\n"
   ]
  },
  {
   "cell_type": "code",
   "execution_count": 6,
   "metadata": {},
   "outputs": [
    {
     "name": "stdout",
     "output_type": "stream",
     "text": [
      "First example: [[   8.  307.  130. 3504.   12.   70.    1.]]\n",
      "\n",
      "Normalized: [[ 1.49  1.07  0.66  0.61 -1.28 -1.61 -0.72]]\n",
      "\n",
      "Mean: [[   5.48  195.32  104.87 2990.25   15.56   75.9     1.57]]\n",
      "\n",
      "Shape: (1, 7)\n"
     ]
    }
   ],
   "source": [
    "first = np.array(X[:1])\n",
    "\n",
    "with np.printoptions(precision=2, suppress=True):\n",
    "  print('First example:', first)\n",
    "  print()\n",
    "  print('Normalized:', X_norm(first).numpy())\n",
    "  print()\n",
    "  #print the average for each column\n",
    "  print('Mean:', X_norm.mean.numpy())\n",
    "  print()\n",
    "  print('Shape:', X_norm(first).shape)"
   ]
  },
  {
   "cell_type": "markdown",
   "metadata": {},
   "source": [
    "Create a two-step Keras Sequential model again with the first layer being normalizer.\n",
    "\n",
    "THERE IS NO HIDDEN LAYER. \n",
    "\n",
    "This is just the input and the activation function. "
   ]
  },
  {
   "cell_type": "code",
   "execution_count": 7,
   "metadata": {},
   "outputs": [],
   "source": [
    "# the input layer is our normalized input, the output is a single value\n",
    "linear_model = tf.keras.Sequential([\n",
    "    X_norm,\n",
    "    layers.Dense(units=1)\n",
    "])"
   ]
  },
  {
   "cell_type": "markdown",
   "metadata": {},
   "source": [
    "We can make a prediction with just the initial random setting of the weights"
   ]
  },
  {
   "cell_type": "code",
   "execution_count": 8,
   "metadata": {},
   "outputs": [
    {
     "name": "stdout",
     "output_type": "stream",
     "text": [
      "\u001b[1m3/3\u001b[0m \u001b[32m━━━━━━━━━━━━━━━━━━━━\u001b[0m\u001b[37m\u001b[0m \u001b[1m0s\u001b[0m 6ms/step \n"
     ]
    },
    {
     "data": {
      "text/plain": [
       "array([[-2.432],\n",
       "       [-0.898],\n",
       "       [ 0.218],\n",
       "       [-0.878],\n",
       "       [-1.801],\n",
       "       [-1.105],\n",
       "       [-0.796],\n",
       "       [-0.855],\n",
       "       [-1.067],\n",
       "       [-0.026],\n",
       "       [-1.28 ],\n",
       "       [-1.068],\n",
       "       [-0.649],\n",
       "       [-1.84 ],\n",
       "       [-0.738],\n",
       "       [-0.421],\n",
       "       [-1.044],\n",
       "       [-0.578],\n",
       "       [-0.208],\n",
       "       [-0.783],\n",
       "       [-1.657],\n",
       "       [-0.731],\n",
       "       [-0.653],\n",
       "       [-1.137],\n",
       "       [ 0.89 ],\n",
       "       [-0.871],\n",
       "       [ 0.271],\n",
       "       [-0.003],\n",
       "       [ 0.025],\n",
       "       [-0.734],\n",
       "       [ 0.32 ],\n",
       "       [-0.945],\n",
       "       [ 0.205],\n",
       "       [-0.534],\n",
       "       [-0.393],\n",
       "       [-0.315],\n",
       "       [ 0.499],\n",
       "       [ 0.88 ],\n",
       "       [-0.81 ],\n",
       "       [ 0.616],\n",
       "       [ 0.668],\n",
       "       [ 0.59 ],\n",
       "       [-0.426],\n",
       "       [ 1.716],\n",
       "       [-1.099],\n",
       "       [ 1.717],\n",
       "       [ 0.815],\n",
       "       [ 0.404],\n",
       "       [-0.827],\n",
       "       [ 0.515],\n",
       "       [-0.942],\n",
       "       [-0.157],\n",
       "       [ 0.998],\n",
       "       [ 0.405],\n",
       "       [ 0.733],\n",
       "       [ 0.34 ],\n",
       "       [-0.4  ],\n",
       "       [ 0.656],\n",
       "       [ 1.506],\n",
       "       [-0.332],\n",
       "       [ 2.124],\n",
       "       [ 1.511],\n",
       "       [ 0.417],\n",
       "       [-0.654],\n",
       "       [-0.749],\n",
       "       [ 1.39 ],\n",
       "       [ 1.223],\n",
       "       [-0.024],\n",
       "       [ 0.131],\n",
       "       [ 2.394],\n",
       "       [ 0.789],\n",
       "       [ 2.46 ],\n",
       "       [ 1.255],\n",
       "       [ 0.733],\n",
       "       [ 0.544],\n",
       "       [ 1.803],\n",
       "       [ 1.295],\n",
       "       [ 1.058]], dtype=float32)"
      ]
     },
     "execution_count": 8,
     "metadata": {},
     "output_type": "execute_result"
    }
   ],
   "source": [
    "linear_model.predict(X_test)"
   ]
  },
  {
   "cell_type": "code",
   "execution_count": 9,
   "metadata": {},
   "outputs": [
    {
     "data": {
      "text/plain": [
       "<Variable path=sequential/dense/kernel, shape=(7, 1), dtype=float32, value=[[-0.012]\n",
       " [ 0.571]\n",
       " [-0.168]\n",
       " [ 0.254]\n",
       " [ 0.799]\n",
       " [ 0.588]\n",
       " [ 0.549]]>"
      ]
     },
     "execution_count": 9,
     "metadata": {},
     "output_type": "execute_result"
    }
   ],
   "source": [
    "#show the weights\n",
    "linear_model.layers[1].kernel"
   ]
  },
  {
   "cell_type": "markdown",
   "metadata": {},
   "source": [
    "Configure the model with Keras Model.compile and train with Model.fit for 100 epochs:"
   ]
  },
  {
   "cell_type": "code",
   "execution_count": 10,
   "metadata": {},
   "outputs": [],
   "source": [
    "linear_model.compile(\n",
    "    optimizer=tf.keras.optimizers.Adam(learning_rate=0.1),\n",
    "    loss='mean_absolute_error')\n",
    "\n",
    "\n",
    "history = linear_model.fit(\n",
    "    X_train,\n",
    "    y_train,\n",
    "    epochs=100,\n",
    "    # Suppress logging.\n",
    "    verbose=0,\n",
    "    # Calculate validation results on 20% of the training data.\n",
    "    validation_split = 0.2)"
   ]
  },
  {
   "cell_type": "code",
   "execution_count": 11,
   "metadata": {},
   "outputs": [
    {
     "data": {
      "image/png": "[encoded data removed]",
      "text/plain": [
       "<Figure size 640x480 with 1 Axes>"
      ]
     },
     "metadata": {},
     "output_type": "display_data"
    }
   ],
   "source": [
    "plt.plot(history.history['loss'], label='loss')\n",
    "plt.plot(history.history['val_loss'], label='val_loss')\n",
    "plt.ylim([0, 10])\n",
    "plt.xlabel('Epoch')\n",
    "plt.ylabel('Error [MPG]')\n",
    "plt.legend()\n",
    "plt.grid(True)"
   ]
  },
  {
   "cell_type": "code",
   "execution_count": 12,
   "metadata": {},
   "outputs": [
    {
     "data": {
      "text/plain": [
       "<Variable path=sequential/dense/kernel, shape=(7, 1), dtype=float32, value=[[-0.394]\n",
       " [-0.101]\n",
       " [-1.345]\n",
       " [-3.266]\n",
       " [-0.895]\n",
       " [ 2.245]\n",
       " [ 1.564]]>"
      ]
     },
     "execution_count": 12,
     "metadata": {},
     "output_type": "execute_result"
    }
   ],
   "source": [
    "#show the final weights\n",
    "linear_model.layers[1].kernel\n"
   ]
  },
  {
   "cell_type": "code",
   "execution_count": 13,
   "metadata": {},
   "outputs": [
    {
     "name": "stdout",
     "output_type": "stream",
     "text": [
      "X_norm[1]: [[ 1.486  1.485  1.581  0.834 -1.458 -1.607 -0.717]]\n",
      "\u001b[1m1/1\u001b[0m \u001b[32m━━━━━━━━━━━━━━━━━━━━\u001b[0m\u001b[37m\u001b[0m \u001b[1m0s\u001b[0m 37ms/step\n",
      "Predicted: [13.997]\n",
      "Actual: [15.]\n",
      "Prediction By Hand: [13.997]\n"
     ]
    }
   ],
   "source": [
    "#show the valued for x_norm[1]\n",
    "print('X_norm[1]:', X_norm(np.array(X[1:2])).numpy())\n",
    "print('Predicted:', linear_model.predict(X[1:2]).flatten())\n",
    "print('Actual:', y[1:2].values)\n",
    "\n",
    "#multiply X_norm(np.array(X[1:2])).numpy() by linear_model.predict(X[1:2]).flatten()\n",
    "# to get the prediction\n",
    "print('Prediction By Hand:', np.dot(X_norm(np.array(X[1:2])).numpy(), linear_model.layers[1].kernel.numpy().flatten()) + linear_model.layers[1].bias.numpy())\n",
    "\n"
   ]
  },
  {
   "cell_type": "code",
   "execution_count": 14,
   "metadata": {},
   "outputs": [
    {
     "data": {
      "text/plain": [
       "{'linear_model': 2.4712018966674805}"
      ]
     },
     "execution_count": 14,
     "metadata": {},
     "output_type": "execute_result"
    }
   ],
   "source": [
    "#evaluate the model using the test set\n",
    "test_results = {}\n",
    "test_results['linear_model'] = linear_model.evaluate(\n",
    "    X_test,\n",
    "    y_test, verbose=0)\n",
    "\n",
    "#total mean squared error\n",
    "test_results\n"
   ]
  },
  {
   "cell_type": "markdown",
   "metadata": {},
   "source": [
    "## DEEP Nueral Network\n",
    "The code is basically the same except the model is expanded to include some \"hidden\" non-linear layers. The name \"hidden\" here just means not directly connected to the inputs or outputs.\n",
    "\n",
    "These models will contain a few more layers than the linear model:\n",
    "\n",
    "The normalization layer, as before (with horsepower_normalizer for a single-input model and normalizer for a multiple-input model).\n",
    "Two hidden, non-linear, Dense layers with the ReLU (relu) activation function nonlinearity.\n",
    "A linear Dense single-output layer.\n",
    "Both models will use the same training procedure, so the compile method is included in the build_and_compile_model function below."
   ]
  },
  {
   "cell_type": "code",
   "execution_count": 15,
   "metadata": {},
   "outputs": [],
   "source": [
    "deepmodel = keras.Sequential([\n",
    "      X_norm,\n",
    "      layers.Dense(64, activation='relu'),\n",
    "      layers.Dense(64, activation='relu'),\n",
    "      layers.Dense(1)\n",
    "  ])\n",
    "\n",
    "deepmodel.compile(loss='mean_absolute_error',\n",
    "                optimizer=tf.keras.optimizers.Adam(0.001))"
   ]
  },
  {
   "cell_type": "code",
   "execution_count": 16,
   "metadata": {},
   "outputs": [],
   "source": [
    "historydeep = deepmodel.fit(\n",
    "    X_train,\n",
    "    y_train,\n",
    "    validation_split=0.2,\n",
    "    verbose=0, epochs=100)"
   ]
  },
  {
   "cell_type": "code",
   "execution_count": 17,
   "metadata": {},
   "outputs": [
    {
     "data": {
      "image/png": "[encoded data removed]",
      "text/plain": [
       "<Figure size 640x480 with 1 Axes>"
      ]
     },
     "metadata": {},
     "output_type": "display_data"
    }
   ],
   "source": [
    "plt.plot(historydeep.history['loss'], label='loss')\n",
    "plt.plot(historydeep.history['val_loss'], label='val_loss')\n",
    "plt.ylim([0, 10])\n",
    "plt.xlabel('Epoch')\n",
    "plt.ylabel('Error [MPG]')\n",
    "plt.legend()\n",
    "plt.grid(True)"
   ]
  },
  {
   "cell_type": "markdown",
   "metadata": {},
   "source": [
    "GitHub Copilot: In the context of training a machine learning model, particularly in TensorFlow or Keras, `loss` and `val_loss` refer to the training loss and validation loss, respectively. Here's the difference:\n",
    "\n",
    "1. **`loss` (Training Loss)**:\n",
    "   - This is the loss calculated on the training dataset during each epoch.\n",
    "   - It measures how well the model is fitting the training data.\n",
    "   - The training loss is minimized during the training process as the model learns from the training data.\n",
    "\n",
    "2. **`val_loss` (Validation Loss)**:\n",
    "   - This is the loss calculated on the validation dataset during each epoch.\n",
    "   - The validation dataset is a separate portion of the data that the model does not directly learn from during training.\n",
    "   - It provides an estimate of how well the model generalizes to unseen data.\n",
    "   - A significant gap between `loss` and `val_loss` (e.g., `val_loss` being much higher) can indicate overfitting, where the model performs well on the training data but poorly on unseen data.\n",
    "\n",
    "### Example:\n",
    "During training, you might see output like this:\n",
    "```\n",
    "Epoch 1/10\n",
    "loss: 0.3456 - val_loss: 0.4567\n",
    "Epoch 2/10\n",
    "loss: 0.1234 - val_loss: 0.2345\n",
    "```\n",
    "\n",
    "- `loss` decreases as the model learns from the training data.\n",
    "- `val_loss` indicates how well the model is performing on the validation data. If `val_loss` starts increasing while `loss` continues to decrease, it may be a sign of overfitting."
   ]
  },
  {
   "cell_type": "code",
   "execution_count": 18,
   "metadata": {},
   "outputs": [
    {
     "data": {
      "image/png": "[encoded data removed]",
      "text/plain": [
       "<IPython.core.display.Image object>"
      ]
     },
     "execution_count": 18,
     "metadata": {},
     "output_type": "execute_result"
    }
   ],
   "source": [
    "#visualize the model network\n",
    "keras.utils.plot_model(deepmodel, show_shapes=True, rankdir='LR')\n",
    "\n"
   ]
  },
  {
   "cell_type": "markdown",
   "metadata": {},
   "source": [
    "The important thing to look at is the 2nd value of the shape, thats the size of the tensor/array.\n",
    "\n",
    "So for this output:\n",
    "- The intial input is of size 7, thats the 7 columns of the Auto dataset we are using\n",
    "- For the 1st hidden layer (DENSE), the input is of size 7, there are 64 hidden nodes, the outpud will be of size 64\n",
    "- For the 2nd hidden layer (DENSE), the input is of size 64, there are 64 hidden nodes, the output is of size 64\n",
    "- The final layer takes 64 inputs and outputs a single scalar value, the prediction for that observation\n"
   ]
  },
  {
   "cell_type": "code",
   "execution_count": 19,
   "metadata": {},
   "outputs": [
    {
     "name": "stdout",
     "output_type": "stream",
     "text": [
      "\u001b[1m1/1\u001b[0m \u001b[32m━━━━━━━━━━━━━━━━━━━━\u001b[0m\u001b[37m\u001b[0m \u001b[1m0s\u001b[0m 23ms/step\n",
      "Prediction: [[15.846]]\n",
      "Actual: [15.]\n"
     ]
    },
    {
     "data": {
      "text/plain": [
       "{'linear_model': 2.4712018966674805, 'deep_model': 1.8108422756195068}"
      ]
     },
     "execution_count": 19,
     "metadata": {},
     "output_type": "execute_result"
    }
   ],
   "source": [
    "#make a prediciton using one example from the test set\n",
    "print('Prediction:', deepmodel.predict(X_test[:1]))\n",
    "print('Actual:', y_test[:1].values)\n",
    "\n",
    "#evaluate the model using the test set\n",
    "test_results['deep_model'] = deepmodel.evaluate(\n",
    "    X_test,\n",
    "    y_test, verbose=0)\n",
    "\n",
    "# print the mse results\n",
    "test_results"
   ]
  }
 ],
 "metadata": {
  "kernelspec": {
   "display_name": "dsa411",
   "language": "python",
   "name": "python3"
  },
  "language_info": {
   "codemirror_mode": {
    "name": "ipython",
    "version": 3
   },
   "file_extension": ".py",
   "mimetype": "text/x-python",
   "name": "python",
   "nbconvert_exporter": "python",
   "pygments_lexer": "ipython3",
   "version": "3.11.5"
  }
 },
 "nbformat": 4,
 "nbformat_minor": 2
}
