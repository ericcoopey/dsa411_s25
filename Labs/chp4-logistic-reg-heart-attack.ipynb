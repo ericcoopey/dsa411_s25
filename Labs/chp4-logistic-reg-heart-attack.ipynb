{
 "cells": [
  {
   "cell_type": "markdown",
   "metadata": {},
   "source": [
    "# **ABOUT HEART ATTACK**"
   ]
  },
  {
   "cell_type": "markdown",
   "metadata": {},
   "source": [
    "> A heart attack (Cardiovascular diseases) occurs when the flow of blood to the heart muscle suddenly becomes blocked. From WHO statistics every year 17.9 million dying from heart attack. The medical study says that human life style is the main reason behind this heart problem. Apart from this there are many key factors which warns that the person may/maynot getting chance of heart attack.\n",
    "\n",
    "> <img style=\"float: centre;\" src=\"https://img.lovepik.com/photo/50074/6189.jpg_wh860.jpg\" width=\"600px\"/>\n",
    "\n",
    "> This dataset contain some medical information of patients which tells whether that person getting a heart attack chance is less or more. Using the information explore the dataset and classify the target variable using different Machine Learning models and findout which algorithm suitable for this dataset."
   ]
  },
  {
   "cell_type": "markdown",
   "metadata": {},
   "source": [
    "currentSmoker - information about a patient if he/she is a smoker\n",
    "\n",
    "cigsPerDay - Amount of consumption if patient is a smoker\n",
    "\n",
    "Health information of patient\n",
    "BPMeds - If a patient is taking BP\n",
    "\n",
    "prevalentStroke - Status of stroke occurance\n",
    "\n",
    "prevalentHyp - Status of prevailing hyper tension\n",
    "\n",
    "diabetes - Status of diabetes\n",
    "\n",
    "totChol - Cholestrol level\n",
    "\n",
    "sysBP - Blood pressure level\n",
    "\n",
    "diaBP - Diastolic blood pressure\n",
    "\n",
    "sysBP - Systolic blood pressure\n",
    "\n",
    "BMI - Body mass Index\n",
    "\n",
    "heartRate - Heart rate reading\n",
    "\n",
    "gluscose - Glucose level\n",
    "\n",
    "TARGET TenYearCHD - status if will suffer a risk of coronary disease in next ten years"
   ]
  },
  {
   "cell_type": "markdown",
   "metadata": {},
   "source": [
    "## Table of Contents\n",
    "1) Import Packages\n",
    "\n",
    "2) EDA\n",
    "\n",
    "3) Preparing ML models\n",
    "\n",
    "4) Models evaluation\n",
    "\n",
    "5) Ensembling\n",
    "\n",
    "6) Conclusion"
   ]
  },
  {
   "cell_type": "markdown",
   "metadata": {},
   "source": [
    "## Packages Required"
   ]
  },
  {
   "cell_type": "code",
   "execution_count": 21,
   "metadata": {
    "trusted": true
   },
   "outputs": [],
   "source": [
    "#loading dataset\n",
    "import pandas as pd\n",
    "import numpy as np\n",
    "#visualisation\n",
    "import matplotlib.pyplot as plt\n",
    "%matplotlib inline\n",
    "import seaborn as sns\n",
    "#EDA\n",
    "# data preprocessing\n",
    "\n",
    "from sklearn.preprocessing import StandardScaler\n",
    "\n",
    "\n",
    "# data modeling\n",
    "from sklearn.metrics import confusion_matrix,accuracy_score,roc_curve,classification_report\n",
    "from sklearn.linear_model import LogisticRegression\n",
    "from sklearn.naive_bayes import GaussianNB\n",
    "from sklearn.neighbors import KNeighborsClassifier\n",
    "from sklearn.naive_bayes import GaussianNB\n",
    "\n",
    "from sklearn.metrics import roc_auc_score\n",
    "from sklearn.metrics import roc_curve"
   ]
  },
  {
   "cell_type": "code",
   "execution_count": 22,
   "metadata": {
    "_cell_guid": "79c7e3d0-c299-4dcb-8224-4455121ee9b0",
    "_uuid": "d629ff2d2480ee46fbb7e2d37f6b5fab8052498a",
    "trusted": true
   },
   "outputs": [
    {
     "data": {
      "text/html": [
       "<div>\n",
       "<style scoped>\n",
       "    .dataframe tbody tr th:only-of-type {\n",
       "        vertical-align: middle;\n",
       "    }\n",
       "\n",
       "    .dataframe tbody tr th {\n",
       "        vertical-align: top;\n",
       "    }\n",
       "\n",
       "    .dataframe thead th {\n",
       "        text-align: right;\n",
       "    }\n",
       "</style>\n",
       "<table border=\"1\" class=\"dataframe\">\n",
       "  <thead>\n",
       "    <tr style=\"text-align: right;\">\n",
       "      <th></th>\n",
       "      <th>male</th>\n",
       "      <th>age</th>\n",
       "      <th>currentSmoker</th>\n",
       "      <th>cigsPerDay</th>\n",
       "      <th>BPMeds</th>\n",
       "      <th>prevalentStroke</th>\n",
       "      <th>prevalentHyp</th>\n",
       "      <th>diabetes</th>\n",
       "      <th>totChol</th>\n",
       "      <th>sysBP</th>\n",
       "      <th>diaBP</th>\n",
       "      <th>BMI</th>\n",
       "      <th>heartRate</th>\n",
       "      <th>glucose</th>\n",
       "      <th>TenYearCHD</th>\n",
       "    </tr>\n",
       "  </thead>\n",
       "  <tbody>\n",
       "    <tr>\n",
       "      <th>0</th>\n",
       "      <td>1</td>\n",
       "      <td>39</td>\n",
       "      <td>0</td>\n",
       "      <td>0.0</td>\n",
       "      <td>0.0</td>\n",
       "      <td>0</td>\n",
       "      <td>0</td>\n",
       "      <td>0</td>\n",
       "      <td>195.0</td>\n",
       "      <td>106.0</td>\n",
       "      <td>70.0</td>\n",
       "      <td>26.97</td>\n",
       "      <td>80.0</td>\n",
       "      <td>77.0</td>\n",
       "      <td>0</td>\n",
       "    </tr>\n",
       "    <tr>\n",
       "      <th>1</th>\n",
       "      <td>0</td>\n",
       "      <td>46</td>\n",
       "      <td>0</td>\n",
       "      <td>0.0</td>\n",
       "      <td>0.0</td>\n",
       "      <td>0</td>\n",
       "      <td>0</td>\n",
       "      <td>0</td>\n",
       "      <td>250.0</td>\n",
       "      <td>121.0</td>\n",
       "      <td>81.0</td>\n",
       "      <td>28.73</td>\n",
       "      <td>95.0</td>\n",
       "      <td>76.0</td>\n",
       "      <td>0</td>\n",
       "    </tr>\n",
       "    <tr>\n",
       "      <th>2</th>\n",
       "      <td>1</td>\n",
       "      <td>48</td>\n",
       "      <td>1</td>\n",
       "      <td>20.0</td>\n",
       "      <td>0.0</td>\n",
       "      <td>0</td>\n",
       "      <td>0</td>\n",
       "      <td>0</td>\n",
       "      <td>245.0</td>\n",
       "      <td>127.5</td>\n",
       "      <td>80.0</td>\n",
       "      <td>25.34</td>\n",
       "      <td>75.0</td>\n",
       "      <td>70.0</td>\n",
       "      <td>0</td>\n",
       "    </tr>\n",
       "    <tr>\n",
       "      <th>3</th>\n",
       "      <td>0</td>\n",
       "      <td>61</td>\n",
       "      <td>1</td>\n",
       "      <td>30.0</td>\n",
       "      <td>0.0</td>\n",
       "      <td>0</td>\n",
       "      <td>1</td>\n",
       "      <td>0</td>\n",
       "      <td>225.0</td>\n",
       "      <td>150.0</td>\n",
       "      <td>95.0</td>\n",
       "      <td>28.58</td>\n",
       "      <td>65.0</td>\n",
       "      <td>103.0</td>\n",
       "      <td>1</td>\n",
       "    </tr>\n",
       "    <tr>\n",
       "      <th>4</th>\n",
       "      <td>0</td>\n",
       "      <td>46</td>\n",
       "      <td>1</td>\n",
       "      <td>23.0</td>\n",
       "      <td>0.0</td>\n",
       "      <td>0</td>\n",
       "      <td>0</td>\n",
       "      <td>0</td>\n",
       "      <td>285.0</td>\n",
       "      <td>130.0</td>\n",
       "      <td>84.0</td>\n",
       "      <td>23.10</td>\n",
       "      <td>85.0</td>\n",
       "      <td>85.0</td>\n",
       "      <td>0</td>\n",
       "    </tr>\n",
       "  </tbody>\n",
       "</table>\n",
       "</div>"
      ],
      "text/plain": [
       "   male  age  currentSmoker  cigsPerDay  BPMeds  prevalentStroke  \\\n",
       "0     1   39              0         0.0     0.0                0   \n",
       "1     0   46              0         0.0     0.0                0   \n",
       "2     1   48              1        20.0     0.0                0   \n",
       "3     0   61              1        30.0     0.0                0   \n",
       "4     0   46              1        23.0     0.0                0   \n",
       "\n",
       "   prevalentHyp  diabetes  totChol  sysBP  diaBP    BMI  heartRate  glucose  \\\n",
       "0             0         0    195.0  106.0   70.0  26.97       80.0     77.0   \n",
       "1             0         0    250.0  121.0   81.0  28.73       95.0     76.0   \n",
       "2             0         0    245.0  127.5   80.0  25.34       75.0     70.0   \n",
       "3             1         0    225.0  150.0   95.0  28.58       65.0    103.0   \n",
       "4             0         0    285.0  130.0   84.0  23.10       85.0     85.0   \n",
       "\n",
       "   TenYearCHD  \n",
       "0           0  \n",
       "1           0  \n",
       "2           0  \n",
       "3           1  \n",
       "4           0  "
      ]
     },
     "execution_count": 22,
     "metadata": {},
     "output_type": "execute_result"
    }
   ],
   "source": [
    "data = pd.read_csv('../data/framingham.csv')\n",
    "data = data.drop([\"education\"],axis=1)\n",
    "data.head()"
   ]
  },
  {
   "cell_type": "code",
   "execution_count": 23,
   "metadata": {
    "trusted": true
   },
   "outputs": [
    {
     "name": "stdout",
     "output_type": "stream",
     "text": [
      "<class 'pandas.core.frame.DataFrame'>\n",
      "RangeIndex: 4238 entries, 0 to 4237\n",
      "Data columns (total 15 columns):\n",
      " #   Column           Non-Null Count  Dtype  \n",
      "---  ------           --------------  -----  \n",
      " 0   male             4238 non-null   int64  \n",
      " 1   age              4238 non-null   int64  \n",
      " 2   currentSmoker    4238 non-null   int64  \n",
      " 3   cigsPerDay       4209 non-null   float64\n",
      " 4   BPMeds           4185 non-null   float64\n",
      " 5   prevalentStroke  4238 non-null   int64  \n",
      " 6   prevalentHyp     4238 non-null   int64  \n",
      " 7   diabetes         4238 non-null   int64  \n",
      " 8   totChol          4188 non-null   float64\n",
      " 9   sysBP            4238 non-null   float64\n",
      " 10  diaBP            4238 non-null   float64\n",
      " 11  BMI              4219 non-null   float64\n",
      " 12  heartRate        4237 non-null   float64\n",
      " 13  glucose          3850 non-null   float64\n",
      " 14  TenYearCHD       4238 non-null   int64  \n",
      "dtypes: float64(8), int64(7)\n",
      "memory usage: 496.8 KB\n"
     ]
    }
   ],
   "source": [
    "data.info()"
   ]
  },
  {
   "cell_type": "markdown",
   "metadata": {},
   "source": [
    "## **EDA**"
   ]
  },
  {
   "cell_type": "code",
   "execution_count": 24,
   "metadata": {},
   "outputs": [
    {
     "data": {
      "text/plain": [
       "glucose            388\n",
       "BPMeds              53\n",
       "totChol             50\n",
       "cigsPerDay          29\n",
       "BMI                 19\n",
       "heartRate            1\n",
       "male                 0\n",
       "age                  0\n",
       "currentSmoker        0\n",
       "prevalentStroke      0\n",
       "prevalentHyp         0\n",
       "diabetes             0\n",
       "sysBP                0\n",
       "diaBP                0\n",
       "TenYearCHD           0\n",
       "dtype: int64"
      ]
     },
     "execution_count": 24,
     "metadata": {},
     "output_type": "execute_result"
    }
   ],
   "source": [
    "data.isna().sum().sort_values(ascending = False)"
   ]
  },
  {
   "cell_type": "code",
   "execution_count": 25,
   "metadata": {},
   "outputs": [
    {
     "data": {
      "text/plain": [
       "male               0\n",
       "age                0\n",
       "currentSmoker      0\n",
       "cigsPerDay         0\n",
       "BPMeds             0\n",
       "prevalentStroke    0\n",
       "prevalentHyp       0\n",
       "diabetes           0\n",
       "totChol            0\n",
       "sysBP              0\n",
       "diaBP              0\n",
       "BMI                0\n",
       "heartRate          0\n",
       "glucose            0\n",
       "TenYearCHD         0\n",
       "dtype: int64"
      ]
     },
     "execution_count": 25,
     "metadata": {},
     "output_type": "execute_result"
    }
   ],
   "source": [
    "data.dropna(inplace = True)\n",
    "data.isna().sum().sort_values(ascending = False)"
   ]
  },
  {
   "cell_type": "markdown",
   "metadata": {},
   "source": [
    "## **Model prepration**"
   ]
  },
  {
   "cell_type": "code",
   "execution_count": 26,
   "metadata": {
    "trusted": true
   },
   "outputs": [],
   "source": [
    "y = data[\"TenYearCHD\"]\n",
    "X = data.drop('TenYearCHD',axis=1)\n"
   ]
  },
  {
   "cell_type": "markdown",
   "metadata": {},
   "source": [
    "**Before applying algorithm we should check whether the data is equally splitted or not, because if data is not splitted equally it will cause for data imbalacing problem**"
   ]
  },
  {
   "cell_type": "code",
   "execution_count": 27,
   "metadata": {
    "trusted": true
   },
   "outputs": [
    {
     "data": {
      "text/plain": [
       "TenYearCHD\n",
       "0    3177\n",
       "1     572\n",
       "Name: count, dtype: int64"
      ]
     },
     "execution_count": 27,
     "metadata": {},
     "output_type": "execute_result"
    }
   ],
   "source": [
    "# get the count of y\n",
    "y.value_counts()\n"
   ]
  },
  {
   "cell_type": "markdown",
   "metadata": {},
   "source": [
    "## Scaling\n",
    "The Nearest Neighbor algorithm uses \"distance\" so variables with a larger scale will be more heavily weighted. Scaling our X values into a new dataframe will alieviate this.\n",
    "\n",
    "Standardize features by removing the mean and scaling to unit variance\n",
    "\n",
    "This means, given an input x, transform it to (x-mean)/std (where all dimensions and operations are well defined).\n",
    "\n",
    "So even if your input values are all positive, removing the mean can make some of them negative:"
   ]
  },
  {
   "cell_type": "code",
   "execution_count": 28,
   "metadata": {
    "trusted": true
   },
   "outputs": [
    {
     "data": {
      "text/html": [
       "<div>\n",
       "<style scoped>\n",
       "    .dataframe tbody tr th:only-of-type {\n",
       "        vertical-align: middle;\n",
       "    }\n",
       "\n",
       "    .dataframe tbody tr th {\n",
       "        vertical-align: top;\n",
       "    }\n",
       "\n",
       "    .dataframe thead th {\n",
       "        text-align: right;\n",
       "    }\n",
       "</style>\n",
       "<table border=\"1\" class=\"dataframe\">\n",
       "  <thead>\n",
       "    <tr style=\"text-align: right;\">\n",
       "      <th></th>\n",
       "      <th>male</th>\n",
       "      <th>age</th>\n",
       "      <th>currentSmoker</th>\n",
       "      <th>cigsPerDay</th>\n",
       "      <th>BPMeds</th>\n",
       "      <th>prevalentStroke</th>\n",
       "      <th>prevalentHyp</th>\n",
       "      <th>diabetes</th>\n",
       "      <th>totChol</th>\n",
       "      <th>sysBP</th>\n",
       "      <th>diaBP</th>\n",
       "      <th>BMI</th>\n",
       "      <th>heartRate</th>\n",
       "      <th>glucose</th>\n",
       "    </tr>\n",
       "  </thead>\n",
       "  <tbody>\n",
       "    <tr>\n",
       "      <th>0</th>\n",
       "      <td>1.116358</td>\n",
       "      <td>-1.234664</td>\n",
       "      <td>-0.977057</td>\n",
       "      <td>-0.755427</td>\n",
       "      <td>-0.177093</td>\n",
       "      <td>-0.075054</td>\n",
       "      <td>-0.673128</td>\n",
       "      <td>-0.167237</td>\n",
       "      <td>-0.940551</td>\n",
       "      <td>-1.195789</td>\n",
       "      <td>-1.083977</td>\n",
       "      <td>0.285424</td>\n",
       "      <td>0.359319</td>\n",
       "      <td>-0.204446</td>\n",
       "    </tr>\n",
       "    <tr>\n",
       "      <th>1</th>\n",
       "      <td>-0.895770</td>\n",
       "      <td>-0.417687</td>\n",
       "      <td>-0.977057</td>\n",
       "      <td>-0.755427</td>\n",
       "      <td>-0.177093</td>\n",
       "      <td>-0.075054</td>\n",
       "      <td>-0.673128</td>\n",
       "      <td>-0.167237</td>\n",
       "      <td>0.292509</td>\n",
       "      <td>-0.515486</td>\n",
       "      <td>-0.162065</td>\n",
       "      <td>0.718351</td>\n",
       "      <td>1.613902</td>\n",
       "      <td>-0.246314</td>\n",
       "    </tr>\n",
       "    <tr>\n",
       "      <th>2</th>\n",
       "      <td>1.116358</td>\n",
       "      <td>-0.184266</td>\n",
       "      <td>1.023482</td>\n",
       "      <td>0.922305</td>\n",
       "      <td>-0.177093</td>\n",
       "      <td>-0.075054</td>\n",
       "      <td>-0.673128</td>\n",
       "      <td>-0.167237</td>\n",
       "      <td>0.180413</td>\n",
       "      <td>-0.220689</td>\n",
       "      <td>-0.245875</td>\n",
       "      <td>-0.115525</td>\n",
       "      <td>-0.058875</td>\n",
       "      <td>-0.497519</td>\n",
       "    </tr>\n",
       "    <tr>\n",
       "      <th>3</th>\n",
       "      <td>-0.895770</td>\n",
       "      <td>1.332976</td>\n",
       "      <td>1.023482</td>\n",
       "      <td>1.761172</td>\n",
       "      <td>-0.177093</td>\n",
       "      <td>-0.075054</td>\n",
       "      <td>1.485602</td>\n",
       "      <td>-0.167237</td>\n",
       "      <td>-0.267973</td>\n",
       "      <td>0.799765</td>\n",
       "      <td>1.011277</td>\n",
       "      <td>0.681454</td>\n",
       "      <td>-0.895264</td>\n",
       "      <td>0.884110</td>\n",
       "    </tr>\n",
       "    <tr>\n",
       "      <th>4</th>\n",
       "      <td>-0.895770</td>\n",
       "      <td>-0.417687</td>\n",
       "      <td>1.023482</td>\n",
       "      <td>1.173965</td>\n",
       "      <td>-0.177093</td>\n",
       "      <td>-0.075054</td>\n",
       "      <td>-0.673128</td>\n",
       "      <td>-0.167237</td>\n",
       "      <td>1.077184</td>\n",
       "      <td>-0.107305</td>\n",
       "      <td>0.089365</td>\n",
       "      <td>-0.666523</td>\n",
       "      <td>0.777513</td>\n",
       "      <td>0.130494</td>\n",
       "    </tr>\n",
       "  </tbody>\n",
       "</table>\n",
       "</div>"
      ],
      "text/plain": [
       "       male       age  currentSmoker  cigsPerDay    BPMeds  prevalentStroke  \\\n",
       "0  1.116358 -1.234664      -0.977057   -0.755427 -0.177093        -0.075054   \n",
       "1 -0.895770 -0.417687      -0.977057   -0.755427 -0.177093        -0.075054   \n",
       "2  1.116358 -0.184266       1.023482    0.922305 -0.177093        -0.075054   \n",
       "3 -0.895770  1.332976       1.023482    1.761172 -0.177093        -0.075054   \n",
       "4 -0.895770 -0.417687       1.023482    1.173965 -0.177093        -0.075054   \n",
       "\n",
       "   prevalentHyp  diabetes   totChol     sysBP     diaBP       BMI  heartRate  \\\n",
       "0     -0.673128 -0.167237 -0.940551 -1.195789 -1.083977  0.285424   0.359319   \n",
       "1     -0.673128 -0.167237  0.292509 -0.515486 -0.162065  0.718351   1.613902   \n",
       "2     -0.673128 -0.167237  0.180413 -0.220689 -0.245875 -0.115525  -0.058875   \n",
       "3      1.485602 -0.167237 -0.267973  0.799765  1.011277  0.681454  -0.895264   \n",
       "4     -0.673128 -0.167237  1.077184 -0.107305  0.089365 -0.666523   0.777513   \n",
       "\n",
       "    glucose  \n",
       "0 -0.204446  \n",
       "1 -0.246314  \n",
       "2 -0.497519  \n",
       "3  0.884110  \n",
       "4  0.130494  "
      ]
     },
     "execution_count": 28,
     "metadata": {},
     "output_type": "execute_result"
    }
   ],
   "source": [
    "#create a new dataframe with scaled features, but only for non-categorical features\n",
    "scaler = StandardScaler()\n",
    "X_scaled = X.copy()\n",
    "X_scaled[X.columns] = scaler.fit_transform(X)\n",
    "X_scaled.head()\n",
    "\n"
   ]
  },
  {
   "cell_type": "markdown",
   "metadata": {},
   "source": [
    "## **ML models**\n",
    "\n",
    "Here I take different machine learning algorithm and try to find algorithm which predict accurately.\n",
    "\n",
    "1. Logistic Regression\n",
    "2. K-Nearest Neighbour\n",
    "\n"
   ]
  },
  {
   "cell_type": "code",
   "execution_count": 29,
   "metadata": {
    "trusted": true
   },
   "outputs": [
    {
     "name": "stdout",
     "output_type": "stream",
     "text": [
      "confussion matrix\n",
      "[[3155   22]\n",
      " [ 545   27]]\n",
      "\n",
      "\n",
      "Accuracy of Logistic Regression: 84.87596692451321 \n",
      "\n",
      "              precision    recall  f1-score   support\n",
      "\n",
      "           0       0.85      0.99      0.92      3177\n",
      "           1       0.55      0.05      0.09       572\n",
      "\n",
      "    accuracy                           0.85      3749\n",
      "   macro avg       0.70      0.52      0.50      3749\n",
      "weighted avg       0.81      0.85      0.79      3749\n",
      "\n"
     ]
    },
    {
     "name": "stderr",
     "output_type": "stream",
     "text": [
      "/Users/ericcoopey/repos/dsa411_s25/dsa411/lib/python3.11/site-packages/sklearn/linear_model/_logistic.py:465: ConvergenceWarning: lbfgs failed to converge (status=1):\n",
      "STOP: TOTAL NO. of ITERATIONS REACHED LIMIT.\n",
      "\n",
      "Increase the number of iterations (max_iter) or scale the data as shown in:\n",
      "    https://scikit-learn.org/stable/modules/preprocessing.html\n",
      "Please also refer to the documentation for alternative solver options:\n",
      "    https://scikit-learn.org/stable/modules/linear_model.html#logistic-regression\n",
      "  n_iter_i = _check_optimize_result(\n"
     ]
    }
   ],
   "source": [
    "m1 = 'Logistic Regression'\n",
    "lr = LogisticRegression()\n",
    "model = lr.fit(X, y)\n",
    "lr_predict = lr.predict(X)\n",
    "lr_conf_matrix = confusion_matrix(y, lr_predict)\n",
    "lr_acc_score = accuracy_score(y, lr_predict)\n",
    "print(\"confussion matrix\")\n",
    "print(lr_conf_matrix)\n",
    "print(\"\\n\")\n",
    "print(\"Accuracy of Logistic Regression:\",lr_acc_score*100,'\\n')\n",
    "print(classification_report(y,lr_predict))"
   ]
  },
  {
   "cell_type": "code",
   "execution_count": 30,
   "metadata": {},
   "outputs": [
    {
     "name": "stdout",
     "output_type": "stream",
     "text": [
      "Intercept of the line:  [-0.4203632]\n",
      "Equation of the line: 0.5311943982017714*male + 0.029319002741718735*age + -0.2492064234061308*currentSmoker + 0.019840021938765832*cigsPerDay + 0.15962648136276744*BPMeds + 0.057250217907467635*prevalentStroke + 1.0170275455526103*prevalentHyp + 0.1780074822989892*diabetes + -0.0012743902852426047*totChol + 0.013702309160985313*sysBP + -0.03091469674538268*diaBP + -0.04551062595310396*BMI + -0.022083201976019158*heartRate + 0.004715024134905068*glucose + "
     ]
    }
   ],
   "source": [
    "# print the equation of the line using the coeficients and intercept\n",
    "print(\"Intercept of the line: \", lr.intercept_)\n",
    "print(\"Equation of the line: \", end=\"\")\n",
    "for i in range(len(X.columns)):\n",
    "    print(f\"{lr.coef_[0][i]}*{X.columns[i]} + \", end=\"\")\n",
    "\n"
   ]
  },
  {
   "cell_type": "code",
   "execution_count": 31,
   "metadata": {},
   "outputs": [
    {
     "data": {
      "image/png": "[encoded data removed]",
      "text/plain": [
       "<Figure size 640x480 with 1 Axes>"
      ]
     },
     "metadata": {},
     "output_type": "display_data"
    }
   ],
   "source": [
    "#generate ROC curve\n",
    "from sklearn.metrics import roc_auc_score\n",
    "from sklearn.metrics import roc_curve\n",
    "logit_roc_auc = roc_auc_score(y, lr.predict(X))\n",
    "fpr, tpr, thresholds = roc_curve(y, lr.predict_proba(X)[:,1])\n",
    "plt.figure()\n",
    "plt.plot(fpr, tpr, label='Logistic Regression (area = %0.2f)' % logit_roc_auc)\n",
    "plt.plot([0, 1], [0, 1],'r--')\n",
    "plt.xlim([0.0, 1.0])\n",
    "plt.ylim([0.0, 1.05])\n",
    "plt.xlabel('False Positive Rate')\n",
    "plt.ylabel('True Positive Rate')\n",
    "plt.title('Receiver operating characteristic')\n",
    "plt.legend(loc=\"lower right\")\n",
    "plt.savefig('Log_ROC')\n",
    "plt.show()\n"
   ]
  },
  {
   "cell_type": "code",
   "execution_count": 32,
   "metadata": {},
   "outputs": [
    {
     "name": "stdout",
     "output_type": "stream",
     "text": [
      "Optimization terminated successfully.\n",
      "         Current function value: 0.400181\n",
      "         Iterations 6\n",
      "                           Logit Regression Results                           \n",
      "==============================================================================\n",
      "Dep. Variable:             TenYearCHD   No. Observations:                 3749\n",
      "Model:                          Logit   Df Residuals:                     3735\n",
      "Method:                           MLE   Df Model:                           13\n",
      "Date:                Fri, 07 Feb 2025   Pseudo R-squ.:                 0.06313\n",
      "Time:                        11:55:34   Log-Likelihood:                -1500.3\n",
      "converged:                       True   LL-Null:                       -1601.4\n",
      "Covariance Type:            nonrobust   LLR p-value:                 4.824e-36\n",
      "===================================================================================\n",
      "                      coef    std err          z      P>|z|      [0.025      0.975]\n",
      "-----------------------------------------------------------------------------------\n",
      "male                0.4093      0.103      3.980      0.000       0.208       0.611\n",
      "age                 0.0285      0.006      4.977      0.000       0.017       0.040\n",
      "currentSmoker      -0.2377      0.150     -1.581      0.114      -0.532       0.057\n",
      "cigsPerDay          0.0214      0.006      3.530      0.000       0.010       0.033\n",
      "BPMeds              0.3233      0.227      1.422      0.155      -0.122       0.769\n",
      "prevalentStroke     0.7832      0.483      1.621      0.105      -0.164       1.730\n",
      "prevalentHyp        0.9720      0.122      7.967      0.000       0.733       1.211\n",
      "diabetes            0.7821      0.291      2.685      0.007       0.211       1.353\n",
      "totChol            -0.0015      0.001     -1.394      0.163      -0.004       0.001\n",
      "sysBP               0.0133      0.004      3.544      0.000       0.006       0.021\n",
      "diaBP              -0.0300      0.006     -5.009      0.000      -0.042      -0.018\n",
      "BMI                -0.0466      0.012     -3.809      0.000      -0.071      -0.023\n",
      "heartRate          -0.0228      0.004     -5.814      0.000      -0.030      -0.015\n",
      "glucose             0.0019      0.002      0.900      0.368      -0.002       0.006\n",
      "===================================================================================\n"
     ]
    }
   ],
   "source": [
    "#use statsmodels to do a logistic regression on X and y \n",
    "import statsmodels.api as sm\n",
    "logit_model=sm.Logit(y,X)\n",
    "result=logit_model.fit()\n",
    "print(result.summary())\n"
   ]
  },
  {
   "cell_type": "code",
   "execution_count": 33,
   "metadata": {},
   "outputs": [
    {
     "data": {
      "text/plain": [
       "array([[3152,   25],\n",
       "       [ 546,   26]])"
      ]
     },
     "execution_count": 33,
     "metadata": {},
     "output_type": "execute_result"
    }
   ],
   "source": [
    "# use the logit_model to predict the y values\n",
    "y_pred = result.predict(X)\n",
    "y_pred = [0 if x < 0.5 else 1 for x in y_pred]\n",
    "confusion_matrix(y, y_pred)\n",
    "\n"
   ]
  },
  {
   "cell_type": "code",
   "execution_count": 34,
   "metadata": {},
   "outputs": [],
   "source": [
    "#remove the columns with p-value > 0.05\n",
    "X_revised = X.drop([\"BPMeds\",\"currentSmoker\",\"glucose\",\"prevalentStroke\",\"totChol\"],axis=1)"
   ]
  },
  {
   "cell_type": "code",
   "execution_count": 35,
   "metadata": {},
   "outputs": [
    {
     "name": "stdout",
     "output_type": "stream",
     "text": [
      "Optimization terminated successfully.\n",
      "         Current function value: 0.401545\n",
      "         Iterations 6\n",
      "                           Logit Regression Results                           \n",
      "==============================================================================\n",
      "Dep. Variable:             TenYearCHD   No. Observations:                 3749\n",
      "Model:                          Logit   Df Residuals:                     3740\n",
      "Method:                           MLE   Df Model:                            8\n",
      "Date:                Fri, 07 Feb 2025   Pseudo R-squ.:                 0.05994\n",
      "Time:                        11:55:35   Log-Likelihood:                -1505.4\n",
      "converged:                       True   LL-Null:                       -1601.4\n",
      "Covariance Type:            nonrobust   LLR p-value:                 3.129e-37\n",
      "================================================================================\n",
      "                   coef    std err          z      P>|z|      [0.025      0.975]\n",
      "--------------------------------------------------------------------------------\n",
      "male             0.4169      0.102      4.093      0.000       0.217       0.617\n",
      "age              0.0269      0.005      4.911      0.000       0.016       0.038\n",
      "cigsPerDay       0.0137      0.004      3.366      0.001       0.006       0.022\n",
      "prevalentHyp     1.0225      0.118      8.657      0.000       0.791       1.254\n",
      "diabetes         0.9639      0.227      4.249      0.000       0.519       1.408\n",
      "sysBP            0.0137      0.004      3.684      0.000       0.006       0.021\n",
      "diaBP           -0.0311      0.006     -5.230      0.000      -0.043      -0.019\n",
      "BMI             -0.0467      0.012     -3.876      0.000      -0.070      -0.023\n",
      "heartRate       -0.0245      0.004     -6.504      0.000      -0.032      -0.017\n",
      "================================================================================\n"
     ]
    }
   ],
   "source": [
    "#use statsmodels to do a logistic regression on X_revised and y\n",
    "logit_model2=sm.Logit(y,X_revised)\n",
    "result3=logit_model2.fit()\n",
    "print(result3.summary())\n"
   ]
  },
  {
   "cell_type": "code",
   "execution_count": 36,
   "metadata": {},
   "outputs": [
    {
     "data": {
      "text/plain": [
       "array([[3156,   21],\n",
       "       [ 552,   20]])"
      ]
     },
     "execution_count": 36,
     "metadata": {},
     "output_type": "execute_result"
    }
   ],
   "source": [
    "# use the logit_model2 to predict the y values and generate the confusion matrix\n",
    "y_pred2 = result3.predict(X_revised)\n",
    "y_pred2 = [0 if x < 0.5 else 1 for x in y_pred2]\n",
    "confusion_matrix(y, y_pred2)\n"
   ]
  },
  {
   "cell_type": "code",
   "execution_count": 37,
   "metadata": {},
   "outputs": [
    {
     "name": "stdout",
     "output_type": "stream",
     "text": [
      "              precision    recall  f1-score   support\n",
      "\n",
      "           0       0.85      0.99      0.92      3177\n",
      "           1       0.49      0.03      0.07       572\n",
      "\n",
      "    accuracy                           0.85      3749\n",
      "   macro avg       0.67      0.51      0.49      3749\n",
      "weighted avg       0.80      0.85      0.79      3749\n",
      "\n"
     ]
    }
   ],
   "source": [
    "# get precision, recall, f1-score\n",
    "print(classification_report(y, y_pred2))\n"
   ]
  },
  {
   "cell_type": "code",
   "execution_count": 38,
   "metadata": {},
   "outputs": [
    {
     "name": "stdout",
     "output_type": "stream",
     "text": [
      "confussion matrix\n",
      "[[3169    8]\n",
      " [ 551   21]]\n",
      "\n",
      "\n",
      "Accuracy of KNN: 85.08935716190985 \n",
      "\n",
      "              precision    recall  f1-score   support\n",
      "\n",
      "           0       0.85      1.00      0.92      3177\n",
      "           1       0.72      0.04      0.07       572\n",
      "\n",
      "    accuracy                           0.85      3749\n",
      "   macro avg       0.79      0.52      0.49      3749\n",
      "weighted avg       0.83      0.85      0.79      3749\n",
      "\n"
     ]
    }
   ],
   "source": [
    "# use KNN to predict the y values using X_scaled\n",
    "knn = KNeighborsClassifier(n_neighbors=20)\n",
    "knn.fit(X_scaled, y)\n",
    "knn_predict = knn.predict(X_scaled)\n",
    "knn_conf_matrix = confusion_matrix(y, knn_predict)\n",
    "knn_acc_score = accuracy_score(y, knn_predict)\n",
    "print(\"confussion matrix\")\n",
    "print(knn_conf_matrix)\n",
    "print(\"\\n\")\n",
    "print(\"Accuracy of KNN:\",knn_acc_score*100,'\\n')\n",
    "print(classification_report(y,knn_predict))\n"
   ]
  }
 ],
 "metadata": {
  "kaggle": {
   "accelerator": "none",
   "dataSources": [
    {
     "datasetId": 23651,
     "sourceId": 30233,
     "sourceType": "datasetVersion"
    },
    {
     "datasetId": 33180,
     "sourceId": 43520,
     "sourceType": "datasetVersion"
    },
    {
     "datasetId": 216167,
     "sourceId": 477177,
     "sourceType": "datasetVersion"
    },
    {
     "datasetId": 222487,
     "sourceId": 478477,
     "sourceType": "datasetVersion"
    },
    {
     "datasetId": 737503,
     "sourceId": 1278636,
     "sourceType": "datasetVersion"
    }
   ],
   "dockerImageVersionId": 29962,
   "isGpuEnabled": false,
   "isInternetEnabled": false,
   "language": "python",
   "sourceType": "notebook"
  },
  "kernelspec": {
   "display_name": "dsa411",
   "language": "python",
   "name": "python3"
  },
  "language_info": {
   "codemirror_mode": {
    "name": "ipython",
    "version": 3
   },
   "file_extension": ".py",
   "mimetype": "text/x-python",
   "name": "python",
   "nbconvert_exporter": "python",
   "pygments_lexer": "ipython3",
   "version": "3.11.5"
  }
 },
 "nbformat": 4,
 "nbformat_minor": 4
}
