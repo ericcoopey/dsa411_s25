{
 "cells": [
  {
   "cell_type": "markdown",
   "metadata": {},
   "source": [
    "## Goal\n",
    "\n",
    "We will be working with a variety of python libraries throughout the semester. You will need to be able to add these dependencies to your python development environment.\n",
    "\n",
    "While you may code in whatever python IDE you choose, I will use VS Code (https://code.visualstudio.com/) which is a free, fully functioning IDE that will do a lot of the heavy lifting for you.\n"
   ]
  },
  {
   "cell_type": "markdown",
   "metadata": {},
   "source": [
    "## What To Submit\n",
    "\n",
    "Take a screenshot of your code having been executed. The output window will have some data and a graph.\n"
   ]
  },
  {
   "cell_type": "markdown",
   "metadata": {},
   "source": [
    "## Step 0 - Clone course github repository\n",
    "\n",
    "```\n",
    "git clone https://github.com/ericcoopey/dsa411_s25.git\n",
    "```\n",
    "\n",
    "You can also open VSCode, select \"Clone Git Repository\" from the welcome page and enter https://github.com/ericcoopey/dsa411_s25.git"
   ]
  },
  {
   "cell_type": "markdown",
   "metadata": {},
   "source": [
    "## Step 1 - Virtual Environment\n",
    "\n",
    "First we want to create a Virtual python envrionment to install our packages to.\n",
    "\n",
    "Check what python version you have. Open the VS Code Terminal and type \n",
    "\n",
    "```\n",
    "python3 --version\n",
    "```\n",
    "\n",
    "As long as it is above 3.4, now create a new virtual environment. Again, in the Terminal (you dont have to name it dsa411, that can be anything):\n",
    "\n",
    "```\n",
    "python3 -m venv dsa411\n",
    "```\n",
    "\n",
    "If you did this inside VSCode, a popup may appear saying \"do you want to add this virtual environment\" say YES."
   ]
  },
  {
   "cell_type": "markdown",
   "metadata": {},
   "source": [
    "## Step 2 - Install dependencies\n",
    "\n",
    "Now that we have created a virtual environment, lets activate it. Again in the VS Code Terminal:\n",
    "\n",
    "```\n",
    "source dsa411/bin/activate\n",
    "```\n",
    "\n",
    "Now we want to install the required packages into our virtual environment.\n",
    "\n",
    "** ENSURE THAT YOU HAVE THE (dsa411) showing on the command line to ensure it gets installed to the correct venv **\n",
    "\n",
    "```\n",
    "pip install -r requirements.txt\n",
    "```"
   ]
  },
  {
   "cell_type": "markdown",
   "metadata": {},
   "source": [
    "## Step 3 - Test Install\n",
    "\n",
    "See if you can import the libraries below"
   ]
  },
  {
   "cell_type": "code",
   "execution_count": null,
   "metadata": {},
   "outputs": [],
   "source": [
    "import numpy as np\n",
    "import scipy as sp\n",
    "#import matplotlib\n",
    "import matplotlib.pyplot as plt\n",
    "import sklearn as sk\n",
    "import pandas as pd\n",
    "import statsmodels as sm\n",
    "import statsmodels.formula.api as smf\n",
    "\n",
    "print ('numpy version ' + np.__version__)\n",
    "print ('scipy version ' + sp.__version__)\n",
    "print ('sklearn version ' + sk.__version__)\n"
   ]
  },
  {
   "cell_type": "markdown",
   "metadata": {},
   "source": [
    "## Run This Code & Submit\n",
    "\n",
    "Run this code then take a screenshot (not of entire output, just whatever on screen) and submit to Brightspace"
   ]
  },
  {
   "cell_type": "code",
   "execution_count": null,
   "metadata": {},
   "outputs": [],
   "source": [
    "# create a basic array\n",
    "a = np.array([1, 6, 2])\n",
    "b = np.array([1, 4, 3])\n",
    "print ('a variable')\n",
    "print(a)\n",
    "print ('b variable')\n",
    "print(b)\n",
    "\n",
    "# create a random distribution\n",
    "x = np.random.normal(0, 1, 50)\n",
    "# we set our y values to x, plus a little bit\n",
    "y = x + np.random.normal(50, .1, 50)\n",
    "\n",
    "# use smf.ols to fit a linear regression model of x an y\n",
    "results = smf.ols('y ~ x', data=pd.DataFrame({'x': x, 'y': y})).fit()\n",
    "\n",
    "# Print the results\n",
    "print(results.summary())\n",
    "\n",
    "# Show the correlation coefficient (YOU DONT KNOW WHAT THIS IS YET)\n",
    "print (\"XY Correlation\")\n",
    "print(np.corrcoef(x, y))\n",
    "\n",
    "# Show the data in the graph\n",
    "plt.plot(x, y, 'bo')\n",
    "plt.ylabel(\"this is the y-axis\")\n",
    "plt.xlabel(\"this is the x-axis\")\n",
    "plt.title(\"Plot of X vs Y\")\n",
    "plt.show()\n",
    "\n",
    "# Again a set of random numbers\n",
    "w = np.random.normal(0, 1, 50)\n",
    "# This time they are unrelated\n",
    "z = np.random.normal(0, 1, 50)\n",
    "\n",
    "# Show the correlation coefficient (YOU DONT KNOW WHAT THIS IS YET)\n",
    "print ('WZ Correlation:')\n",
    "print(np.corrcoef(w, z))\n",
    "\n",
    "# use smf.ols to fit a linear regression model of x an y\n",
    "results = smf.ols('w ~ z', data=pd.DataFrame({'w': w, 'z': z})).fit()\n",
    "\n",
    "# Print the results\n",
    "print(results.summary())\n",
    "# Plot, but this time with red plus\n",
    "plt.plot(w, z, 'r+')\n",
    "plt.ylabel(\"this is the y-axis\")\n",
    "plt.xlabel(\"this is the x-axis\")\n",
    "plt.title(\"Plot of W vs Z\")\n",
    "plt.show()\n"
   ]
  }
 ],
 "metadata": {
  "kernelspec": {
   "display_name": "dsa411",
   "language": "python",
   "name": "python3"
  },
  "language_info": {
   "codemirror_mode": {
    "name": "ipython",
    "version": 3
   },
   "file_extension": ".py",
   "mimetype": "text/x-python",
   "name": "python",
   "nbconvert_exporter": "python",
   "pygments_lexer": "ipython3",
   "version": "3.11.5"
  }
 },
 "nbformat": 4,
 "nbformat_minor": 2
}
